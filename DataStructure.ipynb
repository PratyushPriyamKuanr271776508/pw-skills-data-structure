{
  "nbformat": 4,
  "nbformat_minor": 0,
  "metadata": {
    "colab": {
      "provenance": [],
      "authorship_tag": "ABX9TyOMTADREugpw/rXY3sREoaP",
      "include_colab_link": true
    },
    "kernelspec": {
      "name": "python3",
      "display_name": "Python 3"
    },
    "language_info": {
      "name": "python"
    }
  },
  "cells": [
    {
      "cell_type": "markdown",
      "metadata": {
        "id": "view-in-github",
        "colab_type": "text"
      },
      "source": [
        "<a href=\"https://colab.research.google.com/github/PratyushPriyamKuanr271776508/pw-skills-data-structure/blob/main/DataStructure.ipynb\" target=\"_parent\"><img src=\"https://colab.research.google.com/assets/colab-badge.svg\" alt=\"Open In Colab\"/></a>"
      ]
    },
    {
      "cell_type": "markdown",
      "source": [
        "### 1. **Discuss String Slicing and Provide Examples**\n",
        "String slicing in Python allows you to extract a portion of a string by specifying a range of indices. The syntax for slicing is `string[start:end:step]`, where:\n",
        "- `start`: The starting index (inclusive).\n",
        "- `end`: The ending index (exclusive).\n",
        "- `step`: The interval between characters (optional).\n",
        "\n",
        "**Examples**:"
      ],
      "metadata": {
        "id": "kfntSjKFUeyK"
      }
    },
    {
      "cell_type": "code",
      "execution_count": 10,
      "metadata": {
        "colab": {
          "base_uri": "https://localhost:8080/"
        },
        "id": "pE4kRBx6TOMs",
        "outputId": "14df1482-dbfe-4ad1-8f45-da6c89515d0d"
      },
      "outputs": [
        {
          "output_type": "stream",
          "name": "stdout",
          "text": [
            "Python\n",
            "Programming\n",
            "PtoPor\n",
            "gnimmargorPnohtyP\n"
          ]
        }
      ],
      "source": [
        "text = \"PythonProgramming\"\n",
        "\n",
        "# Slice from index 0 to 5 (exclusive)\n",
        "print(text[0:6])  # Output: Python\n",
        "\n",
        "# Slice from index 6 to the end\n",
        "print(text[6:])  # Output: Programming\n",
        "\n",
        "# Slice with a step\n",
        "print(text[0:12:2])  # Output: PtoPorm\n",
        "\n",
        "# Reverse the string using slicing\n",
        "print(text[::-1])  # Output: gnimmargorPnohtyP"
      ]
    },
    {
      "cell_type": "markdown",
      "source": [
        "### 2. **Explain the Key Features of Lists in Python**\n",
        "- **Ordered**: Lists maintain the order of elements as they are inserted.\n",
        "- **Mutable**: You can modify the elements in a list (add, update, delete).\n",
        "- **Heterogeneous**: Lists can contain elements of different types (e.g., integers, strings, objects).\n",
        "- **Indexed**: You can access elements using indices (positive and negative).\n",
        "- **Dynamic**: Lists can grow or shrink in size as you add or remove elements.\n",
        "\n",
        "**Example**:"
      ],
      "metadata": {
        "id": "Gb3SRE4kUnl2"
      }
    },
    {
      "cell_type": "code",
      "source": [
        "my_list = [1, \"Python\", 3.14, True]\n",
        "print(my_list)  # Output: [1, 'Python', 3.14, True]"
      ],
      "metadata": {
        "id": "D9b1L7mbUYg0"
      },
      "execution_count": null,
      "outputs": []
    },
    {
      "cell_type": "markdown",
      "source": [
        "### 3. **Describe How to Access, Modify, and Delete Elements in a List with Examples**"
      ],
      "metadata": {
        "id": "VH6iqKHrU0tB"
      }
    },
    {
      "cell_type": "markdown",
      "source": [
        "- **Access Elements**: Use indices to access elements.\n"
      ],
      "metadata": {
        "id": "9ace1bikU19t"
      }
    },
    {
      "cell_type": "code",
      "source": [
        "  my_list = [10, 20, 30, 40]\n",
        "  print(my_list[0])  # Output: 10\n",
        "  print(my_list[-1])  # Output: 40 (negative index)"
      ],
      "metadata": {
        "colab": {
          "base_uri": "https://localhost:8080/"
        },
        "id": "XXm0ONngU1Uy",
        "outputId": "d67a734a-73d3-43a3-ba7c-d27b7bec9d9b"
      },
      "execution_count": 2,
      "outputs": [
        {
          "output_type": "stream",
          "name": "stdout",
          "text": [
            "10\n",
            "40\n"
          ]
        }
      ]
    },
    {
      "cell_type": "markdown",
      "source": [
        "- **Modify Elements**: Assign a new value to an element using its index."
      ],
      "metadata": {
        "id": "Yo0_mXzgVq5-"
      }
    },
    {
      "cell_type": "code",
      "source": [
        "  my_list[1] = 25\n",
        "  print(my_list)  # Output: [10, 25, 30, 40]"
      ],
      "metadata": {
        "colab": {
          "base_uri": "https://localhost:8080/"
        },
        "id": "O91cB-7eVl11",
        "outputId": "36358762-deb9-4c6c-d741-fbedde39391d"
      },
      "execution_count": 3,
      "outputs": [
        {
          "output_type": "stream",
          "name": "stdout",
          "text": [
            "[10, 25, 30, 40]\n"
          ]
        }
      ]
    },
    {
      "cell_type": "markdown",
      "source": [
        "- **Delete Elements**: Use `del`, `remove()`, or `pop()` to delete elements."
      ],
      "metadata": {
        "id": "zVr9J64OVy2-"
      }
    },
    {
      "cell_type": "code",
      "source": [
        "  # Using del\n",
        "  del my_list[2]\n",
        "  print(my_list)  # Output: [10, 25, 40]\n",
        "\n",
        "  # Using remove (removes the first occurrence)\n",
        "  my_list.remove(25)\n",
        "  print(my_list)  # Output: [10, 40]\n",
        "\n",
        "  # Using pop (removes by index and returns the value)\n",
        "  popped_item = my_list.pop(1)\n",
        "  print(popped_item)  # Output: 40"
      ],
      "metadata": {
        "colab": {
          "base_uri": "https://localhost:8080/"
        },
        "id": "vxBG3uBVVuF2",
        "outputId": "f60070b3-9018-45e7-853d-0ad040c38400"
      },
      "execution_count": 4,
      "outputs": [
        {
          "output_type": "stream",
          "name": "stdout",
          "text": [
            "[10, 25, 40]\n",
            "[10, 40]\n",
            "40\n"
          ]
        }
      ]
    },
    {
      "cell_type": "markdown",
      "source": [
        "### 4. **Compare and Contrast Tuples and Lists with Examples**\n",
        "\n",
        "- **Mutability**:\n",
        "  - Lists are mutable (elements can be changed).\n",
        "  - Tuples are immutable (elements cannot be changed after creation).\n",
        "  \n",
        "- **Syntax**:\n",
        "  - Lists use square brackets `[]`, while tuples use parentheses `()`.\n",
        "  \n",
        "- **Performance**:\n",
        "  - Tuples are generally faster than lists due to their immutability.\n",
        "  \n",
        "- **Use Cases**:\n",
        "  - Use lists when you need a collection that can change.\n",
        "  - Use tuples for fixed collections of items, such as coordinates or constants.\n",
        "\n",
        "**Example**:"
      ],
      "metadata": {
        "id": "Q3NEpphRV-gC"
      }
    },
    {
      "cell_type": "code",
      "source": [
        "# List example\n",
        "my_list = [10, 20, 30]\n",
        "my_list[1] = 25\n",
        "print(my_list)  # Output: [10, 25, 30]\n",
        "\n",
        "# Tuple example\n",
        "my_tuple = (10, 20, 30)\n",
        "# my_tuple[1] = 25  # This would raise a TypeError"
      ],
      "metadata": {
        "colab": {
          "base_uri": "https://localhost:8080/"
        },
        "id": "KeeWfo93V2ph",
        "outputId": "6cebc102-bde9-4e60-c681-6c394c50d714"
      },
      "execution_count": 5,
      "outputs": [
        {
          "output_type": "stream",
          "name": "stdout",
          "text": [
            "[10, 25, 30]\n"
          ]
        }
      ]
    },
    {
      "cell_type": "markdown",
      "source": [
        "### 5. **Describe the Key Features of Sets and Provide Examples of Their Use**\n",
        "- **Unordered**: Elements are stored in no particular order.\n",
        "- **Unique Elements**: A set cannot have duplicate elements.\n",
        "- **Mutable**: You can add and remove elements from a set, but the set itself is mutable.\n",
        "- **Optimized for Membership Tests**: Checking if an element exists in a set is very efficient.\n",
        "\n",
        "**Example**:"
      ],
      "metadata": {
        "id": "oqdsoS8JWHJ0"
      }
    },
    {
      "cell_type": "code",
      "source": [
        "my_set = {1, 2, 3, 4, 4}  # Duplicate 4 will be ignored\n",
        "print(my_set)  # Output: {1, 2, 3, 4}\n",
        "\n",
        "# Adding an element\n",
        "my_set.add(5)\n",
        "print(my_set)  # Output: {1, 2, 3, 4, 5}\n",
        "\n",
        "# Checking membership\n",
        "print(3 in my_set)  # Output: True"
      ],
      "metadata": {
        "colab": {
          "base_uri": "https://localhost:8080/"
        },
        "id": "-Uy-LsMdWDXJ",
        "outputId": "677a620e-93c2-4dc7-b023-4b500610b0ba"
      },
      "execution_count": 6,
      "outputs": [
        {
          "output_type": "stream",
          "name": "stdout",
          "text": [
            "{1, 2, 3, 4}\n",
            "{1, 2, 3, 4, 5}\n",
            "True\n"
          ]
        }
      ]
    },
    {
      "cell_type": "markdown",
      "source": [
        "### 6. **Discuss the Use Cases of Tuples and Sets in Python Programming**\n",
        "\n",
        "- **Tuples**:\n",
        "  - When you want to return multiple values from a function.\n",
        "  - For representing fixed collections like coordinates (x, y), RGB color values, etc.\n",
        "  - As dictionary keys, since tuples are hashable and immutable.\n",
        "  \n",
        "- **Sets**:\n",
        "  - When you need to store unique values and avoid duplicates.\n",
        "  - For mathematical operations like union, intersection, and difference.\n",
        "  - Efficient for membership tests (`in` operator) in large collections.\n",
        "\n",
        "**Example**:"
      ],
      "metadata": {
        "id": "CvzSUEzvWQga"
      }
    },
    {
      "cell_type": "code",
      "source": [
        "def get_coordinates():\n",
        "    return (10, 20)\n",
        "coords = get_coordinates()\n",
        "print(coords)  # Output: (10, 20)\n",
        "\n",
        "# Set for unique elements\n",
        "numbers = [1, 2, 2, 3, 4, 4]\n",
        "unique_numbers = set(numbers)\n",
        "print(unique_numbers)  # Output: {1, 2, 3, 4}"
      ],
      "metadata": {
        "colab": {
          "base_uri": "https://localhost:8080/"
        },
        "id": "kY8U4cO5WLHJ",
        "outputId": "c820ad1c-3ea5-4a74-f287-1558746db047"
      },
      "execution_count": 7,
      "outputs": [
        {
          "output_type": "stream",
          "name": "stdout",
          "text": [
            "(10, 20)\n",
            "{1, 2, 3, 4}\n"
          ]
        }
      ]
    },
    {
      "cell_type": "markdown",
      "source": [
        "### 7. **Describe How to Add, Modify, and Delete Items in a Dictionary with Examples**\n",
        "\n",
        "- **Add/Modify Items**: You can add new key-value pairs or modify existing ones using assignment."
      ],
      "metadata": {
        "id": "l6U5N3oFW5bf"
      }
    },
    {
      "cell_type": "code",
      "source": [
        "  my_dict = {\"name\": \"Alice\", \"age\": 25}\n",
        "\n",
        "  # Add a new key-value pair\n",
        "  my_dict[\"city\"] = \"New York\"\n",
        "\n",
        "  # Modify an existing key-value pair\n",
        "  my_dict[\"age\"] = 26\n",
        "  print(my_dict)  # Output: {'name': 'Alice', 'age': 26, 'city': 'New York'}"
      ],
      "metadata": {
        "colab": {
          "base_uri": "https://localhost:8080/"
        },
        "id": "U8S_f-vFWvW3",
        "outputId": "b2314f25-89ea-4ada-a087-36fceef1fda5"
      },
      "execution_count": 8,
      "outputs": [
        {
          "output_type": "stream",
          "name": "stdout",
          "text": [
            "{'name': 'Alice', 'age': 26, 'city': 'New York'}\n"
          ]
        }
      ]
    },
    {
      "cell_type": "markdown",
      "source": [
        "- **Delete Items**: Use `del`, `pop()`, or `popitem()` to delete items."
      ],
      "metadata": {
        "id": "PYt2vVrxXJbo"
      }
    },
    {
      "cell_type": "code",
      "source": [
        "  # Using del\n",
        "  del my_dict[\"city\"]\n",
        "\n",
        "  # Using pop (removes and returns the value)\n",
        "  age = my_dict.pop(\"age\")\n",
        "  print(age)  # Output: 26\n",
        "\n",
        "  # Using popitem (removes and returns the last inserted key-value pair)\n",
        "  item = my_dict.popitem()\n",
        "  print(item)  # Output: ('name', 'Alice')"
      ],
      "metadata": {
        "colab": {
          "base_uri": "https://localhost:8080/"
        },
        "id": "lKNTj76cXEKH",
        "outputId": "2ac3a198-d39f-4d46-a538-90f72be74a1d"
      },
      "execution_count": 9,
      "outputs": [
        {
          "output_type": "stream",
          "name": "stdout",
          "text": [
            "26\n",
            "('name', 'Alice')\n"
          ]
        }
      ]
    },
    {
      "cell_type": "code",
      "source": [],
      "metadata": {
        "id": "jFSOIDDRXNPC"
      },
      "execution_count": null,
      "outputs": []
    }
  ]
}